{
 "cells": [
  {
   "cell_type": "markdown",
   "id": "2c3b2ec1",
   "metadata": {},
   "source": [
    "# Predicting a song's for sleeping success"
   ]
  },
  {
   "cell_type": "code",
   "execution_count": null,
   "id": "5b753aad",
   "metadata": {},
   "outputs": [],
   "source": [
    "from bs4 import BeautifulSoup\n",
    "import requests\n",
    "import pandas as pd\n",
    "import numpy as np"
   ]
  },
  {
   "cell_type": "markdown",
   "id": "dbe7aa89",
   "metadata": {},
   "source": [
    "url = \"https://es.wikipedia.org/wiki/Anexo:Canciones_m%C3%A1s_reproducidas_en_Spotify\""
   ]
  },
  {
   "cell_type": "markdown",
   "id": "f3b8db73",
   "metadata": {},
   "source": [
    "response = requests.get(url)\n",
    "response.status_code # 200 status code means OK!"
   ]
  },
  {
   "cell_type": "markdown",
   "id": "cc10f382",
   "metadata": {},
   "source": [
    "soup = BeautifulSoup(response.content, \"html.parser\")"
   ]
  },
  {
   "cell_type": "markdown",
   "id": "b18044a4",
   "metadata": {},
   "source": [
    "soup"
   ]
  },
  {
   "cell_type": "markdown",
   "id": "5ebe40c0",
   "metadata": {
    "scrolled": true
   },
   "source": [
    "prestab = soup.select(\"table\")[0]\n",
    "\n",
    "prestab.select(\"tr td\")"
   ]
  },
  {
   "cell_type": "markdown",
   "id": "daaf188f",
   "metadata": {
    "scrolled": true
   },
   "source": [
    "song = []\n",
    "for title in prestab.select(\"tr td:nth-child(2)\"):\n",
    "    song.append(title.get_text())\n",
    "    #print(title.get_text())"
   ]
  },
  {
   "cell_type": "markdown",
   "id": "095931a1",
   "metadata": {
    "scrolled": true
   },
   "source": [
    "song"
   ]
  },
  {
   "cell_type": "markdown",
   "id": "7d9eef7b",
   "metadata": {},
   "source": [
    "artist = []\n",
    "for title in prestab.select(\"tr td:nth-child(3)\"):\n",
    "    artist.append(title.get_text())\n",
    "    #print(title.get_text())\n",
    "#mw-content-text > div.mw-parser-output > table:nth-child(9) > tbody > tr:nth-child(4) > td:nth-child(3)"
   ]
  },
  {
   "cell_type": "markdown",
   "id": "649892c8",
   "metadata": {
    "scrolled": true
   },
   "source": [
    "artist"
   ]
  },
  {
   "cell_type": "markdown",
   "id": "9c7b5ee6",
   "metadata": {},
   "source": [
    "replays = []\n",
    "for title in prestab.select(\"tr td:nth-child(5)\"):\n",
    "    replays.append(title.get_text())\n",
    "    #print(title.get_text())\n",
    "    "
   ]
  },
  {
   "cell_type": "markdown",
   "id": "e2ca054e",
   "metadata": {
    "scrolled": true
   },
   "source": [
    "replays"
   ]
  },
  {
   "cell_type": "markdown",
   "id": "071fd8b4",
   "metadata": {},
   "source": [
    "song = pd.DataFrame(song)\n",
    "artist = pd.DataFrame(artist)\n",
    "replays = pd.DataFrame(replays)\n",
    "print(len(song))\n",
    "print(len(artist))\n",
    "print(len(replays))"
   ]
  },
  {
   "cell_type": "markdown",
   "id": "41d159a4",
   "metadata": {},
   "source": [
    "df_1 = pd.concat([replays], axis = 1)\n",
    "df_1.columns = ['replays (billion)']\n",
    "df_1 = df_1.replace(',','', regex=True)\n",
    "df_1 = df_1.astype(float)\n",
    "df_1 "
   ]
  },
  {
   "cell_type": "markdown",
   "id": "7e8560cd",
   "metadata": {},
   "source": [
    "## Getting access to spotify"
   ]
  },
  {
   "cell_type": "code",
   "execution_count": null,
   "id": "5f5e094f",
   "metadata": {},
   "outputs": [],
   "source": [
    "import spotipy\n",
    "from spotipy.oauth2 import SpotifyClientCredentials\n",
    "\n",
    "#Initialize SpotiPy with user credentials\n",
    "#sp = spotipy.Spotify(auth_manager=SpotifyClientCredentials(client_id='<your client id here>',\n",
    "#                                                           client_secret='<your client secret here>'))"
   ]
  },
  {
   "cell_type": "code",
   "execution_count": null,
   "id": "9f3c128c",
   "metadata": {},
   "outputs": [],
   "source": [
    "secrets_file = open(\"secrets.txt\",\"r\")"
   ]
  },
  {
   "cell_type": "code",
   "execution_count": null,
   "id": "27f0ae29",
   "metadata": {},
   "outputs": [],
   "source": [
    "string = secrets_file.read()"
   ]
  },
  {
   "cell_type": "code",
   "execution_count": null,
   "id": "52941b10",
   "metadata": {},
   "outputs": [],
   "source": [
    "secrets_dict={}\n",
    "for line in string.split('\\n'):\n",
    "    if len(line) > 0:\n",
    "        secrets_dict[line.split(':')[0]]=line.split(':')[1]"
   ]
  },
  {
   "cell_type": "code",
   "execution_count": null,
   "id": "93cf886f",
   "metadata": {},
   "outputs": [],
   "source": [
    "#Initialize SpotiPy with user credentials\n",
    "sp = spotipy.Spotify(auth_manager=SpotifyClientCredentials(client_id=secrets_dict['cid'],\n",
    "                                                           client_secret=secrets_dict['csecret']))"
   ]
  },
  {
   "cell_type": "markdown",
   "id": "01317906",
   "metadata": {},
   "source": [
    "### Coding in spotify"
   ]
  },
  {
   "cell_type": "code",
   "execution_count": null,
   "id": "f9cbf94e",
   "metadata": {},
   "outputs": [],
   "source": [
    "from random import randint\n",
    "from time import sleep\n",
    "\n",
    "def get_playlist_tracks(playlist_id):\n",
    "    results = sp.user_playlist_tracks(\"spotify\",playlist_id)\n",
    "    tracks = results['items']\n",
    "    while results['next']!=None:\n",
    "        results = sp.next(results)\n",
    "        tracks = tracks + results['items']\n",
    "        sleep(randint(1,3))\n",
    "    return tracks"
   ]
  },
  {
   "cell_type": "code",
   "execution_count": null,
   "id": "9a580cc1",
   "metadata": {},
   "outputs": [],
   "source": [
    "# this will take at least around num_pages_in_playlist * (avg_sleep_time + processing_time) = 53 * (2+0.1) = 110 seconds\n",
    "\n",
    "all_tracks = get_playlist_tracks(\"37i9dQZF1DWZd79rJ6a7lp\")\n",
    "len(all_tracks)"
   ]
  },
  {
   "cell_type": "code",
   "execution_count": null,
   "id": "3563c501",
   "metadata": {},
   "outputs": [],
   "source": [
    "def get_name_artists_from_track(track):\n",
    "    return [(track[\"name\"],artist[\"name\"]) for artist in track[\"artists\"]]"
   ]
  },
  {
   "cell_type": "code",
   "execution_count": null,
   "id": "cea199e3",
   "metadata": {},
   "outputs": [],
   "source": [
    "def get_name_artist_from_playlist_item(playlist_item):\n",
    "    return get_name_artists_from_track(playlist_item['track'])"
   ]
  },
  {
   "cell_type": "code",
   "execution_count": null,
   "id": "2a61ce0b",
   "metadata": {},
   "outputs": [],
   "source": [
    "#flattening is not in the standard library but used a lot. you'll thank me later\n",
    "def flatten(input_list):\n",
    "    return [item for sublist in input_list for item in sublist]\n"
   ]
  },
  {
   "cell_type": "code",
   "execution_count": null,
   "id": "935f3bbf",
   "metadata": {},
   "outputs": [],
   "source": [
    "def get_name_artists_from_playlist(input_playlist):\n",
    "    return list(map(get_name_artist_from_playlist_item, input_playlist))"
   ]
  },
  {
   "cell_type": "code",
   "execution_count": null,
   "id": "873280de",
   "metadata": {},
   "outputs": [],
   "source": [
    "song_artist = get_name_artists_from_playlist(all_tracks)\n",
    "len(song_artist)"
   ]
  },
  {
   "cell_type": "code",
   "execution_count": null,
   "id": "8958c16a",
   "metadata": {},
   "outputs": [],
   "source": [
    "song_artist = [song_artist[i][0] for i in range(len(song_artist))] \n"
   ]
  },
  {
   "cell_type": "code",
   "execution_count": null,
   "id": "113fd883",
   "metadata": {},
   "outputs": [],
   "source": [
    "df = pd.DataFrame(song_artist, columns = ['song', 'artist'])\n",
    "df"
   ]
  },
  {
   "cell_type": "code",
   "execution_count": null,
   "id": "f472d465",
   "metadata": {},
   "outputs": [],
   "source": [
    "uris = [(all_tracks[i][\"track\"][\"uri\"]) for i in range(len(all_tracks))]\n",
    "\n",
    "uris = pd.DataFrame(uris, columns = ['uri'])\n",
    "uris"
   ]
  },
  {
   "cell_type": "code",
   "execution_count": null,
   "id": "658ba756",
   "metadata": {},
   "outputs": [],
   "source": [
    "track_pop = [(all_tracks[i][\"track\"][\"popularity\"]) for i in range(len(all_tracks))]\n",
    "track_pop = pd.DataFrame(track_pop, columns = ['popularity'])\n",
    "track_pop"
   ]
  },
  {
   "cell_type": "code",
   "execution_count": null,
   "id": "a4d431ef",
   "metadata": {},
   "outputs": [],
   "source": [
    "track_pop['popularity'].value_counts()"
   ]
  },
  {
   "cell_type": "code",
   "execution_count": null,
   "id": "3a669b2e",
   "metadata": {},
   "outputs": [],
   "source": [
    "# track_pop['popularity'] = track_pop['popularity'].astype(float)\n",
    "# track_pop['popularity'] = [ 1 if i>=9 else 0 for i in track_pop['popularity']]\n",
    "# track_pop['popularity'].value_counts()"
   ]
  },
  {
   "cell_type": "code",
   "execution_count": null,
   "id": "9bd1c29f",
   "metadata": {},
   "outputs": [],
   "source": [
    "sau_df = pd.concat([df, uris], axis = 1)\n",
    "sau_df"
   ]
  },
  {
   "cell_type": "code",
   "execution_count": null,
   "id": "3c3341ac",
   "metadata": {},
   "outputs": [],
   "source": [
    "sau_df = sau_df[~ sau_df['uri'].str.contains('spotify:local')]\n"
   ]
  },
  {
   "cell_type": "code",
   "execution_count": null,
   "id": "80668a45",
   "metadata": {},
   "outputs": [],
   "source": [
    "audio_features = [sp.audio_features(i) for i in sau_df['uri']]\n"
   ]
  },
  {
   "cell_type": "code",
   "execution_count": null,
   "id": "4cf8ac1b",
   "metadata": {},
   "outputs": [],
   "source": [
    "audio_features = [audio_features[i][0] for i in range(len(audio_features))] \n"
   ]
  },
  {
   "cell_type": "code",
   "execution_count": null,
   "id": "c93f6251",
   "metadata": {},
   "outputs": [],
   "source": [
    "af_df = pd.DataFrame.from_dict(data = audio_features, orient = 'columns').pivot_table(index = 'uri').reset_index()\n",
    "#este from_dict es para hacer un data frame de un diccionario\n",
    "af_df\n"
   ]
  },
  {
   "cell_type": "code",
   "execution_count": null,
   "id": "d89eaac0",
   "metadata": {},
   "outputs": [],
   "source": [
    "final_df_1 = sau_df.merge(right = af_df, on = 'uri')\n",
    "final_df = pd.concat([final_df_1, track_pop], axis = 1)\n",
    "final_df"
   ]
  },
  {
   "cell_type": "code",
   "execution_count": null,
   "id": "3d2fb03b",
   "metadata": {},
   "outputs": [],
   "source": [
    "numericals_1 = final_df.select_dtypes(include = np.number)"
   ]
  },
  {
   "cell_type": "code",
   "execution_count": null,
   "id": "9c4562ef",
   "metadata": {},
   "outputs": [],
   "source": [
    "import seaborn as sb\n",
    "import matplotlib.pyplot as plt\n",
    "import seaborn as sns \n"
   ]
  },
  {
   "cell_type": "code",
   "execution_count": null,
   "id": "0a767287",
   "metadata": {},
   "outputs": [],
   "source": [
    "correlations_matrix = numericals_1.corr()\n",
    "sns.heatmap(correlations_matrix, sns.set(rc = {'figure.figsize':(12,8)}), linewidths=3, annot=True)\n",
    "plt.show()"
   ]
  },
  {
   "cell_type": "code",
   "execution_count": null,
   "id": "bf4c3c49",
   "metadata": {},
   "outputs": [],
   "source": []
  }
 ],
 "metadata": {
  "kernelspec": {
   "display_name": "Python 3 (ipykernel)",
   "language": "python",
   "name": "python3"
  },
  "language_info": {
   "codemirror_mode": {
    "name": "ipython",
    "version": 3
   },
   "file_extension": ".py",
   "mimetype": "text/x-python",
   "name": "python",
   "nbconvert_exporter": "python",
   "pygments_lexer": "ipython3",
   "version": "3.9.7"
  }
 },
 "nbformat": 4,
 "nbformat_minor": 5
}
